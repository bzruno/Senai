{
  "cells": [
    {
      "cell_type": "markdown",
      "metadata": {
        "id": "view-in-github",
        "colab_type": "text"
      },
      "source": [
        "<a href=\"https://colab.research.google.com/github/bzruno/Senai/blob/main/for.ipynb\" target=\"_parent\"><img src=\"https://colab.research.google.com/assets/colab-badge.svg\" alt=\"Open In Colab\"/></a>"
      ]
    },
    {
      "cell_type": "code",
      "execution_count": null,
      "metadata": {
        "colab": {
          "base_uri": "https://localhost:8080/"
        },
        "id": "i9QhOQafbXar",
        "outputId": "8c4592a5-e70b-4d45-bcf3-b046cb223485"
      },
      "outputs": [
        {
          "name": "stdout",
          "output_type": "stream",
          "text": [
            "Olá mundo\n",
            "Olá mundo\n",
            "Olá mundo\n",
            "Olá mundo\n",
            "Olá mundo\n"
          ]
        }
      ],
      "source": [
        "mundo = 'Olá mundo'\n",
        "for i in range(5):\n",
        "  print(mundo)"
      ]
    },
    {
      "cell_type": "code",
      "execution_count": null,
      "metadata": {
        "colab": {
          "base_uri": "https://localhost:8080/"
        },
        "id": "ULsgAgfNcJtD",
        "outputId": "1f7e7fd2-6a74-43d8-80df-b13ec8fb660a"
      },
      "outputs": [
        {
          "name": "stdout",
          "output_type": "stream",
          "text": [
            "1\n",
            "2\n",
            "3\n",
            "4\n",
            "5\n",
            "6\n",
            "7\n",
            "8\n",
            "9\n",
            "10\n",
            "11\n",
            "12\n",
            "13\n",
            "14\n",
            "15\n",
            "16\n",
            "17\n",
            "18\n",
            "19\n",
            "20\n",
            "21\n",
            "22\n",
            "23\n",
            "24\n",
            "25\n",
            "26\n",
            "27\n",
            "28\n",
            "29\n",
            "30\n",
            "31\n",
            "32\n",
            "33\n",
            "34\n",
            "35\n",
            "36\n",
            "37\n",
            "38\n",
            "39\n",
            "40\n",
            "41\n",
            "42\n",
            "43\n",
            "44\n",
            "45\n",
            "46\n",
            "47\n",
            "48\n",
            "49\n",
            "50\n"
          ]
        }
      ],
      "source": [
        "for i in range(1, 51, 1):\n",
        "  print(i)"
      ]
    },
    {
      "cell_type": "code",
      "execution_count": null,
      "metadata": {
        "colab": {
          "base_uri": "https://localhost:8080/"
        },
        "id": "qx4TktiTcfED",
        "outputId": "02e1f6c4-33d1-4ede-8f69-0266392bb0e2"
      },
      "outputs": [
        {
          "name": "stdout",
          "output_type": "stream",
          "text": [
            "1\n",
            "3\n",
            "5\n",
            "7\n",
            "9\n",
            "11\n",
            "13\n",
            "15\n",
            "17\n",
            "19\n"
          ]
        }
      ],
      "source": [
        "for i in range(1, 20, 2):\n",
        "  print(i)"
      ]
    },
    {
      "cell_type": "code",
      "execution_count": null,
      "metadata": {
        "colab": {
          "base_uri": "https://localhost:8080/"
        },
        "id": "tnwqzXtccvnB",
        "outputId": "6a0bf4db-2eab-4e8b-b381-96fc9785a0cc"
      },
      "outputs": [
        {
          "name": "stdout",
          "output_type": "stream",
          "text": [
            " 2 x 1 = 2\n",
            " 2 x 2 = 4\n",
            " 2 x 3 = 6\n",
            " 2 x 4 = 8\n",
            " 2 x 5 = 10\n"
          ]
        }
      ],
      "source": [
        "num = [1,2,3,4,5]\n",
        "\n",
        "for i in num:\n",
        "  print(f\" 2 x {i} = {2 * i}\")"
      ]
    },
    {
      "cell_type": "code",
      "execution_count": null,
      "metadata": {
        "colab": {
          "base_uri": "https://localhost:8080/"
        },
        "id": "ku-97OoBdu_D",
        "outputId": "1ead04cb-8f8f-4a99-f3ab-32ffcb086395"
      },
      "outputs": [
        {
          "name": "stdout",
          "output_type": "stream",
          "text": [
            "Digite uma palavra: garrafa\n",
            "g\n",
            "a\n",
            "r\n",
            "r\n",
            "a\n",
            "f\n",
            "a\n"
          ]
        }
      ],
      "source": [
        "palavra = input(\"Digite uma palavra: \")\n",
        "\n",
        "for contar in palavra:\n",
        "  print(contar)"
      ]
    },
    {
      "cell_type": "code",
      "execution_count": null,
      "metadata": {
        "colab": {
          "base_uri": "https://localhost:8080/"
        },
        "id": "l29zD3Nre6O6",
        "outputId": "40242ede-664c-49d4-d759-6c7208baa0d4"
      },
      "outputs": [
        {
          "name": "stdout",
          "output_type": "stream",
          "text": [
            "10\n",
            "9\n",
            "8\n",
            "7\n",
            "6\n",
            "5\n",
            "4\n",
            "3\n",
            "2\n",
            "1\n"
          ]
        }
      ],
      "source": [
        "for i in reversed(range(1, 11)):\n",
        "  print(i)"
      ]
    },
    {
      "cell_type": "code",
      "execution_count": null,
      "metadata": {
        "colab": {
          "base_uri": "https://localhost:8080/"
        },
        "id": "UJhWjyhrkoHZ",
        "outputId": "f66b308e-30f4-4f00-9ffd-fbbd6ca70f28"
      },
      "outputs": [
        {
          "name": "stdout",
          "output_type": "stream",
          "text": [
            "1\n",
            "3\n",
            "6\n",
            "10\n",
            "15\n",
            "21\n",
            "28\n",
            "36\n",
            "45\n",
            "55\n"
          ]
        }
      ],
      "source": [
        "soma = 0\n",
        "\n",
        "for i in range(1, 11):\n",
        "  soma += i\n",
        "  print(soma)"
      ]
    },
    {
      "cell_type": "code",
      "execution_count": null,
      "metadata": {
        "id": "p2wXkwtBgRvc",
        "colab": {
          "base_uri": "https://localhost:8080/"
        },
        "outputId": "47551f60-6893-453d-8964-a8b52c9fa934"
      },
      "outputs": [
        {
          "output_type": "stream",
          "name": "stdout",
          "text": [
            "Digite um numero: 5\n",
            "5\n",
            "Digite um numero: 8\n",
            "8\n",
            "Digite um numero: 9\n",
            "9\n",
            "Digite um numero: 10\n",
            "10\n"
          ]
        }
      ],
      "source": [
        "for i in range(5):\n",
        "  numero = int(input(\"Digite um numero: \"))\n",
        "  print(numero)"
      ]
    },
    {
      "cell_type": "code",
      "execution_count": null,
      "metadata": {
        "colab": {
          "base_uri": "https://localhost:8080/"
        },
        "id": "YrpLwtl_gUwR",
        "outputId": "b0022200-7eec-411b-b9a6-b2c09db49ffb"
      },
      "outputs": [
        {
          "name": "stdout",
          "output_type": "stream",
          "text": [
            " 7 x 1 = 7\n",
            " 7 x 2 = 14\n",
            " 7 x 3 = 21\n",
            " 7 x 4 = 28\n",
            " 7 x 5 = 35\n",
            " 7 x 6 = 42\n",
            " 7 x 7 = 49\n",
            " 7 x 8 = 56\n",
            " 7 x 9 = 63\n",
            " 7 x 10 = 70\n"
          ]
        }
      ],
      "source": [
        "for i in range(1, 11):\n",
        "  print(f\" 7 x {i} = {7 * i}\")"
      ]
    },
    {
      "cell_type": "code",
      "execution_count": null,
      "metadata": {
        "id": "QJVFUd5I6DeO"
      },
      "outputs": [],
      "source": [
        "for i in range(1, 11):\n",
        "  for j in range(1, 11):\n",
        "    print(f\"{i} x {j} = {i * j}\")"
      ]
    },
    {
      "cell_type": "code",
      "execution_count": null,
      "metadata": {
        "colab": {
          "base_uri": "https://localhost:8080/"
        },
        "id": "sB7gLiPI65Rp",
        "outputId": "a2bb7cd0-c3c6-4f9d-ee9b-7620d5a49c81"
      },
      "outputs": [
        {
          "name": "stdout",
          "output_type": "stream",
          "text": [
            "Digite uma palavra:bruno\n",
            "A palavra bruno tem 2 vogais\n"
          ]
        }
      ],
      "source": [
        "palavra = input(\"Digite uma palavra:\").lower()\n",
        "vogais = [\"a\", \"e\", \"i\", \"o\", \"u\"]\n",
        "contador = 0\n",
        "\n",
        "for letra in palavra:\n",
        "  if letra in vogais:\n",
        "    contador += 1\n",
        "\n",
        "print(f\"A palavra {palavra} tem {contador} vogais\")"
      ]
    },
    {
      "cell_type": "code",
      "execution_count": null,
      "metadata": {
        "colab": {
          "base_uri": "https://localhost:8080/"
        },
        "id": "AcSxHak9_SBN",
        "outputId": "a74a7041-ddbb-4f87-c246-89c28fb3a26c"
      },
      "outputs": [
        {
          "name": "stdout",
          "output_type": "stream",
          "text": [
            "1\n",
            "2\n",
            "3\n",
            "4\n",
            "5\n",
            "6\n",
            "7\n",
            "8\n",
            "9\n",
            "10\n",
            "11\n",
            "12\n",
            "13\n",
            "14\n",
            "15\n",
            "16\n",
            "17\n",
            "18\n",
            "19\n",
            "20\n"
          ]
        }
      ],
      "source": [
        "# 1\n",
        "for i in range(1, 21,):\n",
        "  print(i)"
      ]
    },
    {
      "cell_type": "code",
      "execution_count": null,
      "metadata": {
        "colab": {
          "base_uri": "https://localhost:8080/"
        },
        "id": "TRttciqYAopk",
        "outputId": "e249b27b-85dd-424b-f02d-c4df311b5af9"
      },
      "outputs": [
        {
          "name": "stdout",
          "output_type": "stream",
          "text": [
            "0\n",
            "2\n",
            "4\n",
            "6\n",
            "8\n",
            "10\n",
            "12\n",
            "14\n",
            "16\n",
            "18\n",
            "20\n",
            "22\n",
            "24\n",
            "26\n",
            "28\n",
            "30\n",
            "32\n",
            "34\n",
            "36\n",
            "38\n",
            "40\n",
            "42\n",
            "44\n",
            "46\n",
            "48\n",
            "50\n"
          ]
        }
      ],
      "source": [
        "# 2\n",
        "\n",
        "for i in range(0, 51, 2):\n",
        "  print(i)"
      ]
    },
    {
      "cell_type": "code",
      "execution_count": null,
      "metadata": {
        "colab": {
          "base_uri": "https://localhost:8080/"
        },
        "id": "won26MHLBCvd",
        "outputId": "9ee580c2-9932-4313-87d7-9a93b10cee0d"
      },
      "outputs": [
        {
          "name": "stdout",
          "output_type": "stream",
          "text": [
            "1 x 1 = 1\n",
            "1 x 2 = 2\n",
            "1 x 3 = 3\n",
            "1 x 4 = 4\n",
            "1 x 5 = 5\n",
            "1 x 6 = 6\n",
            "1 x 7 = 7\n",
            "1 x 8 = 8\n",
            "1 x 9 = 9\n",
            "1 x 10 = 10\n",
            "2 x 1 = 2\n",
            "2 x 2 = 4\n",
            "2 x 3 = 6\n",
            "2 x 4 = 8\n",
            "2 x 5 = 10\n",
            "2 x 6 = 12\n",
            "2 x 7 = 14\n",
            "2 x 8 = 16\n",
            "2 x 9 = 18\n",
            "2 x 10 = 20\n",
            "3 x 1 = 3\n",
            "3 x 2 = 6\n",
            "3 x 3 = 9\n",
            "3 x 4 = 12\n",
            "3 x 5 = 15\n",
            "3 x 6 = 18\n",
            "3 x 7 = 21\n",
            "3 x 8 = 24\n",
            "3 x 9 = 27\n",
            "3 x 10 = 30\n",
            "4 x 1 = 4\n",
            "4 x 2 = 8\n",
            "4 x 3 = 12\n",
            "4 x 4 = 16\n",
            "4 x 5 = 20\n",
            "4 x 6 = 24\n",
            "4 x 7 = 28\n",
            "4 x 8 = 32\n",
            "4 x 9 = 36\n",
            "4 x 10 = 40\n",
            "5 x 1 = 5\n",
            "5 x 2 = 10\n",
            "5 x 3 = 15\n",
            "5 x 4 = 20\n",
            "5 x 5 = 25\n",
            "5 x 6 = 30\n",
            "5 x 7 = 35\n",
            "5 x 8 = 40\n",
            "5 x 9 = 45\n",
            "5 x 10 = 50\n",
            "6 x 1 = 6\n",
            "6 x 2 = 12\n",
            "6 x 3 = 18\n",
            "6 x 4 = 24\n",
            "6 x 5 = 30\n",
            "6 x 6 = 36\n",
            "6 x 7 = 42\n",
            "6 x 8 = 48\n",
            "6 x 9 = 54\n",
            "6 x 10 = 60\n",
            "7 x 1 = 7\n",
            "7 x 2 = 14\n",
            "7 x 3 = 21\n",
            "7 x 4 = 28\n",
            "7 x 5 = 35\n",
            "7 x 6 = 42\n",
            "7 x 7 = 49\n",
            "7 x 8 = 56\n",
            "7 x 9 = 63\n",
            "7 x 10 = 70\n",
            "8 x 1 = 8\n",
            "8 x 2 = 16\n",
            "8 x 3 = 24\n",
            "8 x 4 = 32\n",
            "8 x 5 = 40\n",
            "8 x 6 = 48\n",
            "8 x 7 = 56\n",
            "8 x 8 = 64\n",
            "8 x 9 = 72\n",
            "8 x 10 = 80\n",
            "9 x 1 = 9\n",
            "9 x 2 = 18\n",
            "9 x 3 = 27\n",
            "9 x 4 = 36\n",
            "9 x 5 = 45\n",
            "9 x 6 = 54\n",
            "9 x 7 = 63\n",
            "9 x 8 = 72\n",
            "9 x 9 = 81\n",
            "9 x 10 = 90\n",
            "10 x 1 = 10\n",
            "10 x 2 = 20\n",
            "10 x 3 = 30\n",
            "10 x 4 = 40\n",
            "10 x 5 = 50\n",
            "10 x 6 = 60\n",
            "10 x 7 = 70\n",
            "10 x 8 = 80\n",
            "10 x 9 = 90\n",
            "10 x 10 = 100\n"
          ]
        }
      ],
      "source": [
        "# 3\n",
        "\n",
        "for i in range(1, 11):\n",
        "  for j in range(1, 11):\n",
        "    print(f\"{i} x {j} = {i * j}\")"
      ]
    },
    {
      "cell_type": "code",
      "execution_count": null,
      "metadata": {
        "collapsed": true,
        "id": "ECKleLeziNws"
      },
      "outputs": [],
      "source": [
        "# 4\n",
        "\n",
        "soma = 0\n",
        "\n",
        "for i in range(1, 101):\n",
        "  soma += i\n",
        "  print(soma)"
      ]
    },
    {
      "cell_type": "code",
      "execution_count": null,
      "metadata": {
        "colab": {
          "base_uri": "https://localhost:8080/"
        },
        "id": "M8X1OECYj7qO",
        "outputId": "1006418f-3bec-4e2e-e763-a28ad44d92ae"
      },
      "outputs": [
        {
          "name": "stdout",
          "output_type": "stream",
          "text": [
            "Digite um numero: 2\n",
            "Digite um numero: 2\n",
            "Digite um numero: 2\n",
            "Digite um numero: 2\n",
            "Digite um numero: 2\n",
            "A soma é 10 e a média é 2.0\n"
          ]
        }
      ],
      "source": [
        "# 5\n",
        "\n",
        "soma = 0\n",
        "\n",
        "for i in range(5):\n",
        "  numero = int(input(\"Digite um numero: \"))\n",
        "  soma += numero\n",
        "  media = soma / 5\n",
        "print(f\"A soma é {soma} e a média é {media}\")"
      ]
    },
    {
      "cell_type": "code",
      "execution_count": null,
      "metadata": {
        "colab": {
          "base_uri": "https://localhost:8080/"
        },
        "id": "F9WoHXrupeg9",
        "outputId": "5a59f33d-b786-4d14-9692-335fce4193bd"
      },
      "outputs": [
        {
          "name": "stdout",
          "output_type": "stream",
          "text": [
            "3\n",
            "6\n",
            "9\n",
            "12\n",
            "15\n",
            "18\n",
            "21\n",
            "24\n",
            "27\n"
          ]
        }
      ],
      "source": [
        "# 6\n",
        "for i in range(1, 10, 1):\n",
        "  multiplos = i * 3\n",
        "  print(multiplos)"
      ]
    },
    {
      "cell_type": "code",
      "execution_count": null,
      "metadata": {
        "colab": {
          "base_uri": "https://localhost:8080/"
        },
        "id": "ujknA2pqqNnU",
        "outputId": "55024abf-7ed4-4588-a8ce-b008479f2e02"
      },
      "outputs": [
        {
          "name": "stdout",
          "output_type": "stream",
          "text": [
            "-2\n",
            "-1\n"
          ]
        }
      ],
      "source": [
        "# 7\n",
        "lista = [-2, -1, 0, 1, 2 ]\n",
        "\n",
        "for negativos in lista:\n",
        "  if negativos < 0:\n",
        "   print(negativos)"
      ]
    },
    {
      "cell_type": "code",
      "source": [
        "# 8\n",
        "\n",
        "altura = int(input(\"Digite a altura do triângulo: \"))\n",
        "\n",
        "for i in range(1, altura + 1):\n",
        "    print('*' * i)"
      ],
      "metadata": {
        "colab": {
          "base_uri": "https://localhost:8080/"
        },
        "id": "8A5eUAfSH9IH",
        "outputId": "9658323b-acfa-43ac-ce63-1823f771d6c6"
      },
      "execution_count": null,
      "outputs": [
        {
          "output_type": "stream",
          "name": "stdout",
          "text": [
            "Digite a altura do triângulo: 8\n",
            "*\n",
            "**\n",
            "***\n",
            "****\n",
            "*****\n",
            "******\n",
            "*******\n",
            "********\n"
          ]
        }
      ]
    },
    {
      "cell_type": "code",
      "execution_count": null,
      "metadata": {
        "colab": {
          "base_uri": "https://localhost:8080/"
        },
        "id": "5_khYLi2rTOp",
        "outputId": "2309000c-4932-49e1-c33b-7a0464571034"
      },
      "outputs": [
        {
          "name": "stdout",
          "output_type": "stream",
          "text": [
            "10\n",
            "9\n",
            "8\n",
            "7\n",
            "6\n",
            "5\n",
            "4\n",
            "3\n",
            "2\n",
            "1\n",
            "FIM!\n"
          ]
        }
      ],
      "source": [
        "# 9\n",
        "mensagem = \"FIM!\"\n",
        "for i in reversed(range(1, 11)):\n",
        "  print(i)\n",
        "print(mensagem)"
      ]
    },
    {
      "cell_type": "code",
      "execution_count": null,
      "metadata": {
        "colab": {
          "base_uri": "https://localhost:8080/"
        },
        "id": "1kOPpns8smWZ",
        "outputId": "f51fa522-ed95-42f1-f115-741f52251c97"
      },
      "outputs": [
        {
          "output_type": "stream",
          "name": "stdout",
          "text": [
            "-2\n",
            "-1\n"
          ]
        }
      ],
      "source": [
        "# 10\n",
        "lista = [-2, -1, 0, 1, 2 ]\n",
        "\n",
        "for i in lista:\n",
        "  if i < 0:\n",
        "    print(i)"
      ]
    },
    {
      "cell_type": "code",
      "execution_count": null,
      "metadata": {
        "colab": {
          "base_uri": "https://localhost:8080/"
        },
        "id": "D0hM808-uDrm",
        "outputId": "6568f635-7ffd-4a9c-f277-cd5a83195ee7"
      },
      "outputs": [
        {
          "output_type": "stream",
          "name": "stdout",
          "text": [
            "Digite um numero:2\n",
            "2\n",
            "4\n",
            "6\n",
            "8\n",
            "10\n",
            "12\n",
            "14\n",
            "16\n",
            "18\n",
            "20\n"
          ]
        }
      ],
      "source": [
        "# 11\n",
        "\n",
        "numero = int(input(\"Digite um numero:\"))\n",
        "\n",
        "for i in range(1, 11):\n",
        "  multiplos = (numero * i)\n",
        "  print(multiplos)"
      ]
    },
    {
      "cell_type": "code",
      "execution_count": null,
      "metadata": {
        "colab": {
          "base_uri": "https://localhost:8080/"
        },
        "id": "8R2iBSlCvNHc",
        "outputId": "57702984-d54a-4fc3-a54a-34324386c0f0"
      },
      "outputs": [
        {
          "name": "stdout",
          "output_type": "stream",
          "text": [
            "Digite uma palavra:senai\n",
            "A palavra senai tem 3 vogais\n"
          ]
        }
      ],
      "source": [
        "# 12\n",
        "palavra = input(\"Digite uma palavra:\").lower().strip()\n",
        "vogais = [\"a\", \"e\", \"i\", \"o\", \"u\"]\n",
        "contador = 0\n",
        "\n",
        "for letra in palavra:\n",
        "  if letra in vogais:\n",
        "    contador += 1\n",
        "\n",
        "print(f\"A palavra {palavra} tem {contador} vogais\")"
      ]
    },
    {
      "cell_type": "code",
      "execution_count": null,
      "metadata": {
        "colab": {
          "base_uri": "https://localhost:8080/"
        },
        "id": "ftvGhDYe797A",
        "outputId": "b1a62b23-68f7-4cba-816a-bb4b53e6d32e"
      },
      "outputs": [
        {
          "output_type": "stream",
          "name": "stdout",
          "text": [
            "5\n",
            "10\n",
            "15\n",
            "20\n",
            "25\n",
            "30\n",
            "35\n",
            "40\n",
            "45\n",
            "50\n"
          ]
        }
      ],
      "source": [
        "# 13\n",
        "\n",
        "for i in range(1, 11, 1):\n",
        "  multiplos = i * 5\n",
        "  print(multiplos)"
      ]
    },
    {
      "cell_type": "code",
      "execution_count": null,
      "metadata": {
        "colab": {
          "base_uri": "https://localhost:8080/"
        },
        "id": "7u2UDaYF93d_",
        "outputId": "84e5c74e-75e0-4d11-898e-81f66fd6d6d4"
      },
      "outputs": [
        {
          "output_type": "stream",
          "name": "stdout",
          "text": [
            "1\n",
            "2\n",
            "3\n",
            "4\n",
            "5\n"
          ]
        }
      ],
      "source": [
        "# 14\n",
        "numeros = [1, 2, 3, 4, 5, 6, 7, 8, 9, 10]\n",
        "contador = 0\n",
        "\n",
        "for numero in numeros:\n",
        "  if numero % 2 == 0:\n",
        "    contador += 1\n",
        "    print(contador)"
      ]
    },
    {
      "cell_type": "code",
      "execution_count": null,
      "metadata": {
        "colab": {
          "base_uri": "https://localhost:8080/"
        },
        "id": "A117xJI3vhpq",
        "outputId": "6514fcde-5b79-445f-caa2-f158544ac93a"
      },
      "outputs": [
        {
          "output_type": "stream",
          "name": "stdout",
          "text": [
            "Digite uma palavra:senai\n",
            "ianes"
          ]
        }
      ],
      "source": [
        "# 15\n",
        "palavra = input(\"Digite uma palavra:\").lower()\n",
        "\n",
        "for i in reversed(palavra):\n",
        "  print(i, end=\"\")"
      ]
    },
    {
      "cell_type": "code",
      "execution_count": null,
      "metadata": {
        "colab": {
          "base_uri": "https://localhost:8080/"
        },
        "id": "EwhYfHYF7te2",
        "outputId": "18e2a500-e26f-4d81-c826-5bd0989c17e1"
      },
      "outputs": [
        {
          "name": "stdout",
          "output_type": "stream",
          "text": [
            "1\n",
            "3\n",
            "5\n",
            "7\n",
            "9\n",
            "11\n",
            "13\n",
            "15\n",
            "17\n",
            "19\n"
          ]
        }
      ],
      "source": [
        "# 16\n",
        "\n",
        "for i in range(1, 21, 2):\n",
        "  print(i)"
      ]
    },
    {
      "cell_type": "code",
      "execution_count": null,
      "metadata": {
        "id": "lJJbyCpf96r9"
      },
      "outputs": [],
      "source": [
        "# 17\n",
        "\n",
        "numero = int(input(\"Digite um número: \"))\n",
        "\n",
        "for linhas in range(1, numero + 1):\n",
        "    for colunas in range(1, linhas + 1):\n",
        "        print(colunas, end=' ')\n",
        "    print()\n"
      ]
    },
    {
      "cell_type": "code",
      "execution_count": null,
      "metadata": {
        "id": "zY1qUlU598JN",
        "colab": {
          "base_uri": "https://localhost:8080/"
        },
        "outputId": "e0f05f3d-5670-4602-ad2c-663f2771006e"
      },
      "outputs": [
        {
          "output_type": "stream",
          "name": "stdout",
          "text": [
            "Digite um numero:4\n",
            "O fatorial de 4 é 1\n",
            "O fatorial de 4 é 2\n",
            "O fatorial de 4 é 6\n",
            "O fatorial de 4 é 24\n"
          ]
        }
      ],
      "source": [
        "# 18\n",
        "\n",
        "numero = int(input(\"Digite um numero:\"))\n",
        "fatorial = 1\n",
        "for i in range(1, numero +1):\n",
        "  fatorial *= i\n",
        "  print(f\"O fatorial de {numero} é {fatorial}\")"
      ]
    },
    {
      "cell_type": "code",
      "execution_count": null,
      "metadata": {
        "id": "15z7lZOQ99Bi",
        "colab": {
          "base_uri": "https://localhost:8080/"
        },
        "outputId": "aae3db5c-206f-4380-bca2-646b95c22ad6"
      },
      "outputs": [
        {
          "output_type": "stream",
          "name": "stdout",
          "text": [
            "Digite uma palavra:eu estudo no senai\n",
            "Digite uma letra:a\n",
            "A letra a aparece 1 vezes na palavra eu estudo no senai\n"
          ]
        }
      ],
      "source": [
        "# 19\n",
        "\n",
        "palavra = input(\"Digite uma palavra:\").lower()\n",
        "letra = input(\"Digite uma letra:\").lower()\n",
        "contador = 0\n",
        "\n",
        "for i in palavra:\n",
        "  if i == letra:\n",
        "    contador += 1\n",
        "\n",
        "print(f\"A letra {letra} aparece {contador} vezes na palavra {palavra}\")"
      ]
    }
  ],
  "metadata": {
    "colab": {
      "provenance": [],
      "authorship_tag": "ABX9TyOS9QEz4JW7dj0Ab5JJ3XrR",
      "include_colab_link": true
    },
    "kernelspec": {
      "display_name": "Python 3",
      "name": "python3"
    },
    "language_info": {
      "name": "python"
    }
  },
  "nbformat": 4,
  "nbformat_minor": 0
}