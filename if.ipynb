{
  "nbformat": 4,
  "nbformat_minor": 0,
  "metadata": {
    "colab": {
      "provenance": [],
      "authorship_tag": "ABX9TyN1LbuT2mRsrDyxVUfXeoAA",
      "include_colab_link": true
    },
    "kernelspec": {
      "name": "python3",
      "display_name": "Python 3"
    },
    "language_info": {
      "name": "python"
    }
  },
  "cells": [
    {
      "cell_type": "markdown",
      "metadata": {
        "id": "view-in-github",
        "colab_type": "text"
      },
      "source": [
        "<a href=\"https://colab.research.google.com/github/bzruno/Senai/blob/main/0702.ipynb\" target=\"_parent\"><img src=\"https://colab.research.google.com/assets/colab-badge.svg\" alt=\"Open In Colab\"/></a>"
      ]
    },
    {
      "cell_type": "code",
      "execution_count": null,
      "metadata": {
        "colab": {
          "base_uri": "https://localhost:8080/"
        },
        "id": "73j8B8lJi7bv",
        "outputId": "d969751a-2f6a-4c0d-a0ff-254e063dd46b"
      },
      "outputs": [
        {
          "output_type": "stream",
          "name": "stdout",
          "text": [
            "Digite a temperatura: 24\n",
            "AGRADÁVEL! 😌\n"
          ]
        }
      ],
      "source": [
        "temperatura = float(input(\"Digite a temperatura: \"))\n",
        "\n",
        "if temperatura <15:\n",
        "  print(\"MUITO FRIO! 💀\")\n",
        "elif temperatura <=20:\n",
        "  print(\"FRIO! 🥶\")\n",
        "elif temperatura <=25:\n",
        "  print(\"AGRADÁVEL! 😌\")\n",
        "else:\n",
        "  print(\"QUENTE! 🥵\")"
      ]
    },
    {
      "cell_type": "code",
      "source": [
        "nota = float(input(\"Digite a nota: \"))\n",
        "\n",
        "if nota >90:\n",
        "   print(\"A\")\n",
        "elif nota <90 and nota >=80:\n",
        "  print(\"B\")\n",
        "elif nota <80 and nota >=70:\n",
        "  print(\"C\")\n",
        "elif nota <70 and nota >=60:\n",
        "  print(\"D\")\n",
        "else:\n",
        "  print(\"F\")"
      ],
      "metadata": {
        "colab": {
          "base_uri": "https://localhost:8080/"
        },
        "id": "iSbcMM9L43A-",
        "outputId": "01f8739f-2b06-4c17-c85d-f5d0821abafb"
      },
      "execution_count": null,
      "outputs": [
        {
          "output_type": "stream",
          "name": "stdout",
          "text": [
            "Digite a nota: 79\n",
            "C\n"
          ]
        }
      ]
    },
    {
      "cell_type": "code",
      "source": [
        "idade = int(input(\"Digite a idade: \"))\n",
        "\n",
        "if idade <=12:\n",
        "  print(\"Criança\")\n",
        "elif idade >12 and idade <=17:\n",
        "  print(\"Adolescente\")\n",
        "elif idade >18 and idade <=64:\n",
        "  print(\"Adulto\")\n",
        "else:\n",
        "  print(\"Idoso\")"
      ],
      "metadata": {
        "colab": {
          "base_uri": "https://localhost:8080/"
        },
        "id": "-6JzzrW_7TPH",
        "outputId": "44dba262-8a94-4742-986a-0bea80fd24b3"
      },
      "execution_count": null,
      "outputs": [
        {
          "output_type": "stream",
          "name": "stdout",
          "text": [
            "Digite a idade: 27\n",
            "Adulto\n"
          ]
        }
      ]
    },
    {
      "cell_type": "code",
      "source": [
        "peso = float(input(\"Digite o seu peso: \"))\n",
        "altura = float(input(\"Digite o sua altura: \"))\n",
        "\n",
        "imc = peso / altura ** 2\n",
        "\n",
        "if imc <18.5:\n",
        "  print(\"Abaixo do peso\")\n",
        "elif imc >=18.5 and imc <=24.9:\n",
        "  print(\"Peso normal\")\n",
        "elif imc >=25 and imc <=29.9:\n",
        "  print(\"Sobrepeso\")\n",
        "else:\n",
        "  print(\"Obesidade\")\n",
        "\n",
        "imc = print(f\"Seu IMC é: {imc}\")\n",
        "\n"
      ],
      "metadata": {
        "colab": {
          "base_uri": "https://localhost:8080/"
        },
        "id": "ynb8h1-k8Nah",
        "outputId": "ac460946-c59f-4b06-e7a1-5820e1dc6e89"
      },
      "execution_count": null,
      "outputs": [
        {
          "output_type": "stream",
          "name": "stdout",
          "text": [
            "Digite sua altura (em metros ou centímetros): 170\n",
            "Altura: 1.70 metros\n"
          ]
        }
      ]
    },
    {
      "cell_type": "code",
      "source": [
        "anos = int(input(\"Digite a quantidade de anos: \"))\n",
        "salario = float(input(\"Digite o seu salário: \"))\n",
        "\n",
        "if anos <1:\n",
        "  print(\"Sem bônus\")\n",
        "elif anos >1 and anos <=3:\n",
        "  print(f\"Seu bônus é: {salario * 0.05}\")\n",
        "  print(f\"Seu salário é: {salario + salario * 0.05}\")\n",
        "elif anos >3 and anos <=5:\n",
        "  print(f\"Seu bônus é: {salario * 0.10}\")\n",
        "  print(f\"Seu salário é: {salario + salario * 0.10}\")\n",
        "elif anos >5:\n",
        "  print(f\"Seu bônus é: {salario * 0.15}\")\n",
        "  print(f\"Seu salário é: {salario + salario * 0.15}\")"
      ],
      "metadata": {
        "colab": {
          "base_uri": "https://localhost:8080/"
        },
        "id": "6Ryu0MO684j8",
        "outputId": "323b635a-225f-468c-d3e4-f69a89dfa318"
      },
      "execution_count": null,
      "outputs": [
        {
          "output_type": "stream",
          "name": "stdout",
          "text": [
            "Digite a quantidade de anos: 5\n",
            "Digite o seu salário: 3000\n",
            "Seu bônus é: 300.0\n",
            "Seu salário é: 3300.0\n"
          ]
        }
      ]
    },
    {
      "cell_type": "code",
      "source": [
        "velocidade = int(input(\"Digite a velocidade: \"))\n",
        "\n",
        "if velocidade <=40:\n",
        "  print(\"Baixa velocidade\")\n",
        "elif velocidade >40 and velocidade <=80:\n",
        "  print(\"Velocidade moderada\")\n",
        "elif velocidade >80 and velocidade <=120:\n",
        "  print(\"Velocidade alta\")\n",
        "else:\n",
        "  print(\"Velocidade muito alta\")\n"
      ],
      "metadata": {
        "colab": {
          "base_uri": "https://localhost:8080/"
        },
        "id": "x1X7nU7dDG9A",
        "outputId": "e0e7df8f-f9eb-43d7-df86-260f8305cba3"
      },
      "execution_count": null,
      "outputs": [
        {
          "output_type": "stream",
          "name": "stdout",
          "text": [
            "Digite a velocidade: 80\n",
            "Velocidade moderada\n"
          ]
        }
      ]
    },
    {
      "cell_type": "code",
      "source": [
        "import datetime\n",
        "\n",
        "permissao = input(\"Insira sua classe: \").lower()\n",
        "\n",
        "if permissao == \"general\":\n",
        "    print(\"ACESSO PERMITIDO\")\n",
        "\n",
        "elif permissao == \"soldado\":\n",
        "    respostaMissao = input(\"Você está em missão? \").lower()\n",
        "    respostaSuperior = input(\"Você está acompanhado de um superior? \").lower()\n",
        "    if respostaMissao == \"sim\" and respostaSuperior == \"sim\":\n",
        "        print(\"ACESSO PERMITIDO\")\n",
        "    else:\n",
        "        print(\"ACESSO NEGADO\")\n",
        "\n",
        "[elif permissao == \"cientista\":\n",
        "    permissaoSecreta = int(input(\"Digite sua permissão: \")).lower()\n",
        "    if permissaoSecreta == 12345:\n",
        "        print(\"PERMISSÃO SECRETA: OK \")]\n",
        "    else:\n",
        "        print(\"ACESSO NEGADO. AUTORIZAÇÃO DESCONHECIDA\")\n",
        "    nivelSeguranca = int(input(\"Qual é o seu nível de segurança? \"))\n",
        "    if nivelSeguranca >= 5:\n",
        "        print(\"NÍVEL 5 OU ACIMA: ACESSO PERMITIDO PARA QUALQUER ÁREA\")\n",
        "    else:\n",
        "        print(\"NÍVEL ABAIXO DE 5: ACESSO PERMITIDO. MAS SOLICITE UMA ESCOLTA.\")\n",
        "\n",
        "elif permissao == \"civil\":\n",
        "  perguntaFamiliar = input(\"Você é seu grau de parentesco com o militar? \").lower()\n",
        "  if perguntaFamiliar == \"mãe\" or perguntaFamiliar == \"pai\" or perguntaFamiliar == \"irmão\":\n",
        "      print(\"PARENTESCO: OK.\")\n",
        "  else:\n",
        "      print(\"PARENTESCO INDIRETO. ACESSO NEGADO\")\n",
        "\n",
        "      perguntaPatente = input(\"Qual é a patente do parentesco? \").lower()\n"
      ],
      "metadata": {
        "colab": {
          "base_uri": "https://localhost:8080/"
        },
        "id": "9s6UbqQ4Eptu",
        "outputId": "4b04fb3a-4a32-4efa-92df-c68fdf65cf6b"
      },
      "execution_count": null,
      "outputs": [
        {
          "output_type": "stream",
          "name": "stdout",
          "text": [
            "Insira sua classe: CIVIL\n",
            "Você é seu grau de parentesco com o militar? MÃE\n",
            "PARENTESCO: OK.\n"
          ]
        }
      ]
    },
    {
      "cell_type": "code",
      "source": [],
      "metadata": {
        "id": "VewrbsBGKEQU"
      },
      "execution_count": null,
      "outputs": []
    }
  ]
}
