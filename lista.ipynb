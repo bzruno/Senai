{
  "nbformat": 4,
  "nbformat_minor": 0,
  "metadata": {
    "colab": {
      "provenance": [],
      "authorship_tag": "ABX9TyPIcwkXXcyN0pHE5fREMY7V",
      "include_colab_link": true
    },
    "kernelspec": {
      "name": "python3",
      "display_name": "Python 3"
    },
    "language_info": {
      "name": "python"
    }
  },
  "cells": [
    {
      "cell_type": "markdown",
      "metadata": {
        "id": "view-in-github",
        "colab_type": "text"
      },
      "source": [
        "<a href=\"https://colab.research.google.com/github/bzruno/Senai/blob/main/lista.ipynb\" target=\"_parent\"><img src=\"https://colab.research.google.com/assets/colab-badge.svg\" alt=\"Open In Colab\"/></a>"
      ]
    },
    {
      "cell_type": "code",
      "execution_count": null,
      "metadata": {
        "colab": {
          "base_uri": "https://localhost:8080/"
        },
        "id": "Ov_dhu-0pGcl",
        "outputId": "d60c0977-9773-4e94-eaee-aec43b265890"
      },
      "outputs": [
        {
          "output_type": "stream",
          "name": "stdout",
          "text": [
            "6\n"
          ]
        }
      ],
      "source": [
        "programadores = ['Victor', 'Ana', 'Bia', 'Emily', 'Daniel', 'Joao']\n",
        "\n",
        "print(len(programadores))"
      ]
    },
    {
      "cell_type": "code",
      "source": [
        "programadores = ['Victor', 'Ana', 'Bia', 'Emily', 'Daniel', 'Joao']\n",
        "\n",
        "programadores[0] = 'Bruno'\n",
        "print(programadores)"
      ],
      "metadata": {
        "colab": {
          "base_uri": "https://localhost:8080/"
        },
        "id": "lTsX_rqVpMNb",
        "outputId": "258c8be8-5506-4ee6-c453-c1ff98151739"
      },
      "execution_count": null,
      "outputs": [
        {
          "output_type": "stream",
          "name": "stdout",
          "text": [
            "['Bruno', 'Ana', 'Bia', 'Emily', 'Daniel', 'Joao']\n"
          ]
        }
      ]
    },
    {
      "cell_type": "code",
      "source": [
        "programadores = ['Victor', 'Ana', 'Bia', 'Emily', 'Daniel', 'Joao']\n",
        "\n",
        "programadores.append('Raul')\n",
        "print(programadores)"
      ],
      "metadata": {
        "colab": {
          "base_uri": "https://localhost:8080/"
        },
        "id": "ltUkbkEHpNq4",
        "outputId": "39e4c4e1-36eb-4d5f-bd01-68a3cf4da8fe"
      },
      "execution_count": null,
      "outputs": [
        {
          "output_type": "stream",
          "name": "stdout",
          "text": [
            "['Victor', 'Ana', 'Bia', 'Emily', 'Daniel', 'Joao', 'Raul']\n"
          ]
        }
      ]
    },
    {
      "cell_type": "code",
      "source": [
        "programadores = ['Victor', 'Ana', 'Bia', 'Emily', 'Daniel', 'Joao']\n",
        "\n",
        "programadores.insert(2, 'Yasmim')\n",
        "print(programadores)"
      ],
      "metadata": {
        "colab": {
          "base_uri": "https://localhost:8080/"
        },
        "id": "Eiipzc3DpNuz",
        "outputId": "225fb628-64ee-4311-d369-e8862f2b794d"
      },
      "execution_count": null,
      "outputs": [
        {
          "output_type": "stream",
          "name": "stdout",
          "text": [
            "['Victor', 'Ana', 'Yasmim', 'Bia', 'Emily', 'Daniel', 'Joao']\n"
          ]
        }
      ]
    },
    {
      "cell_type": "code",
      "source": [
        "programadores = ['Victor', 'Ana', 'Bia', 'Emily', 'Daniel', 'Joao']\n",
        "\n",
        "programadores.pop\n",
        "print(programadores)"
      ],
      "metadata": {
        "colab": {
          "base_uri": "https://localhost:8080/"
        },
        "id": "8ro3gBMSpNzZ",
        "outputId": "522be28e-f9ae-467a-e05d-136212603956"
      },
      "execution_count": null,
      "outputs": [
        {
          "output_type": "stream",
          "name": "stdout",
          "text": [
            "['Victor', 'Ana', 'Bia', 'Emily', 'Daniel', 'Joao']\n"
          ]
        }
      ]
    },
    {
      "cell_type": "code",
      "source": [
        "programadores = ['Victor', 'Ana', 'Bia', 'Emily', 'Daniel', 'Joao']\n",
        "\n",
        "programadores.remove\n",
        "print(programadores)"
      ],
      "metadata": {
        "colab": {
          "base_uri": "https://localhost:8080/"
        },
        "id": "mRcWcAaPpN3p",
        "outputId": "6f7a6b35-3368-4ee8-b82a-e900d0d0fa34"
      },
      "execution_count": null,
      "outputs": [
        {
          "output_type": "stream",
          "name": "stdout",
          "text": [
            "['Victor', 'Ana', 'Bia', 'Emily', 'Daniel', 'Joao']\n"
          ]
        }
      ]
    },
    {
      "cell_type": "code",
      "source": [
        "programadores = ['Victor', 'Ana', 'Bia', 'Emily', 'Daniel', 'Joao']\n",
        "\n",
        "for nome in programadores:\n",
        "    if nome.startswith(\"J\"):\n",
        "        print(nome)"
      ],
      "metadata": {
        "colab": {
          "base_uri": "https://localhost:8080/"
        },
        "id": "KbypImd-pN7-",
        "outputId": "5fc5a1a0-115d-46da-dbe5-18601d43ac2d"
      },
      "execution_count": 2,
      "outputs": [
        {
          "output_type": "stream",
          "name": "stdout",
          "text": [
            "Joao\n"
          ]
        }
      ]
    },
    {
      "cell_type": "code",
      "source": [
        "numeros = [5, 9, 15, 36, 1, 18, 48, 4]\n",
        "\n",
        "print(max(numeros))"
      ],
      "metadata": {
        "id": "h2ACGNUtpXux"
      },
      "execution_count": null,
      "outputs": []
    },
    {
      "cell_type": "code",
      "source": [
        "programadores = ['Victor', 'Ana', 'Bia', 'Emily', 'Daniel', 'Joao']\n",
        "\n",
        "print(min(programadores))\n",
        "print(max(programadores))"
      ],
      "metadata": {
        "id": "NXbM2RUppXxW"
      },
      "execution_count": null,
      "outputs": []
    },
    {
      "cell_type": "code",
      "source": [
        "programadores = ['Victor', 'Ana', 'Bia', 'Emily', 'Daniel', 'Joao']\n",
        "\n",
        "menor_palavra = min(programadores, key=len)# definir criterio pro min e max\n",
        "maior_palavra = max(programadores, key=len)# definir criterio pro min e max\n",
        "\n",
        "maior = []\n",
        "menor = []\n",
        "\n",
        "print(maior_palavra)\n",
        "print(menor_palavra)\n",
        "\n",
        "for nome in programadores:\n",
        "    if len(nome) == len(menor_palavra):\n",
        "        menor.append(nome)\n",
        "\n",
        "    elif len(nome) == len(maior_palavra):\n",
        "        maior.append(nome)"
      ],
      "metadata": {
        "id": "IALna6b3pXzj"
      },
      "execution_count": null,
      "outputs": []
    },
    {
      "cell_type": "code",
      "source": [
        "programadores = ['Victor', 'Ana', 'Bia', 'Emily', 'Daniel', 'Joao']\n",
        "\n"
      ],
      "metadata": {
        "id": "iuUylrp9plo9"
      },
      "execution_count": null,
      "outputs": []
    },
    {
      "cell_type": "code",
      "source": [
        "programadores = ['Victor', 'Ana', 'Bia', 'Emily', 'Daniel', 'Joao']\n",
        "\n",
        "copia = programadores.copy()\n",
        "print(copia)"
      ],
      "metadata": {
        "colab": {
          "base_uri": "https://localhost:8080/"
        },
        "id": "_DWVb6stplbP",
        "outputId": "49aeb5fa-e64b-4656-d5b6-4888afd3bb44"
      },
      "execution_count": null,
      "outputs": [
        {
          "output_type": "stream",
          "name": "stdout",
          "text": [
            "['Victor', 'Ana', 'Bia', 'Emily', 'Daniel', 'Joao']\n"
          ]
        }
      ]
    },
    {
      "cell_type": "code",
      "source": [
        "numeros = [5, 9, 15, 36, 1, 18, 48, 4]\n",
        "\n",
        "soma = sum(numeros)\n",
        "print(soma)"
      ],
      "metadata": {
        "colab": {
          "base_uri": "https://localhost:8080/"
        },
        "id": "BYLzP1QoplR-",
        "outputId": "645974aa-26f4-4973-d8ea-c22cb5974ed2"
      },
      "execution_count": null,
      "outputs": [
        {
          "output_type": "stream",
          "name": "stdout",
          "text": [
            "136\n"
          ]
        }
      ]
    },
    {
      "cell_type": "code",
      "source": [
        "programadores = ['Victor', 'Ana', 'Bia', 'Emily', 'Daniel', 'Joao']\n",
        "\n",
        "programadores.clear()\n",
        "print(programadores)\n"
      ],
      "metadata": {
        "colab": {
          "base_uri": "https://localhost:8080/"
        },
        "id": "C6846KaNplBN",
        "outputId": "c76fcaac-d50c-43ff-c763-831dade4073a"
      },
      "execution_count": 3,
      "outputs": [
        {
          "output_type": "stream",
          "name": "stdout",
          "text": [
            "[]\n"
          ]
        }
      ]
    }
  ]
}